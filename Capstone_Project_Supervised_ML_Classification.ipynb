{
  "nbformat": 4,
  "nbformat_minor": 0,
  "metadata": {
    "colab": {
      "private_outputs": true,
      "provenance": [],
      "include_colab_link": true
    },
    "kernelspec": {
      "name": "python3",
      "display_name": "Python 3"
    },
    "language_info": {
      "name": "python"
    }
  },
  "cells": [
    {
      "cell_type": "markdown",
      "metadata": {
        "id": "view-in-github",
        "colab_type": "text"
      },
      "source": [
        "<a href=\"https://colab.research.google.com/github/Prashikdhole/Health_Insurance_Cross-_sale_classification/blob/main/Capstone_Project_Supervised_ML_Classification.ipynb\" target=\"_parent\"><img src=\"https://colab.research.google.com/assets/colab-badge.svg\" alt=\"Open In Colab\"/></a>"
      ]
    },
    {
      "cell_type": "markdown",
      "source": [
        "# **Project Name**    - HEALTH INSURANCE CROSS SALE PREDICTION"
      ],
      "metadata": {
        "id": "vncDsAP0Gaoa"
      }
    },
    {
      "cell_type": "markdown",
      "source": [
        "##### **Project Type**    - Classification\n",
        "##### **Contribution**    - Team\n",
        "##### **Team Member 1 -** Dipak Patle\n",
        "##### **Team Member 2 -** Prashik Dhole"
      ],
      "metadata": {
        "id": "beRrZCGUAJYm"
      }
    },
    {
      "cell_type": "markdown",
      "source": [
        "# **Project Summary -**"
      ],
      "metadata": {
        "id": "FJNUwmbgGyua"
      }
    },
    {
      "cell_type": "markdown",
      "source": [
        "Cross-selling identifies products or services that satisfy additional, complementary needs that are unfulfilled by the original product that a customer possesses. As an example, a mouse could be cross-sold to a customer purchasing a keyboard. Oftentimes, cross-selling points users to products they would have purchased anyways; by showing them at the right time, a store ensures they make the sale.\n",
        "\n",
        "Cross-selling is prevalent in various domains and industries including banks. For example, credit cards are cross-sold to people registering a savings account. In ecommerce, cross-selling is often utilized on product pages, during the checkout process, and in lifecycle campaigns. It is a highly-effective tactic for generating repeat purchases, demonstrating the breadth of a catalog to customers. Cross-selling can alert users to products they didn't previously know you offered, further earning their confidence as the best retailer to satisfy a particular need.\n"
      ],
      "metadata": {
        "id": "F6v_1wHtG2nS"
      }
    },
    {
      "cell_type": "markdown",
      "source": [
        "# **GitHub Link -**"
      ],
      "metadata": {
        "id": "w6K7xa23Elo4"
      }
    },
    {
      "cell_type": "markdown",
      "source": [],
      "metadata": {
        "id": "h1o69JH3Eqqn"
      }
    },
    {
      "cell_type": "markdown",
      "source": [
        "# **Problem Statement**\n"
      ],
      "metadata": {
        "id": "yQaldy8SH6Dl"
      }
    },
    {
      "cell_type": "markdown",
      "source": [
        "Your client is an Insurance company that has provided Health Insurance to its customers now they need your help in building a model to predict whether the policyholders (customers) from past year will also be interested in Vehicle Insurance provided by the company. An insurance policy is an arrangement by which a company undertakes to provide a guarantee of compensation for specified loss, damage, illness, or death in return for the payment of a specified premium. A premium is a sum of money that the customer needs to pay regularly to an insurance company for this guarantee. For example, you may pay a premium of Rs. 5000 each year for a health insurance cover of Rs. 200,000/- so that if, God forbid, you fall ill and need to be hospitalised in that year, the insurance provider company will bear the cost of hospitalisation etc. for upto Rs. 200,000. Now if you are wondering how can company bear such high hospitalisation cost when it charges a premium of only Rs. 5000/-, that is where the concept of probabilities comes in picture. For example, like you, there may be 100 customers who would be paying a premium of Rs. 5000 every year, but only a few of them (say 2-3) would get hospitalised that year and not everyone. This way everyone shares the risk of everyone else.\n",
        "\n",
        "Just like medical insurance, there is vehicle insurance where every year customer needs to pay a premium of certain amount to insurance provider company so that in case of unfortunate accident by the vehicle, the insurance provider company will provide a compensation (called ‘sum assured’) to the customer. Building a model to predict whether a customer would be interested in Vehicle Insurance is extremely helpful for the company because it can then accordingly plan its communication strategy to reach out to those customers and optimise its business model and revenue.\n",
        "\n",
        "Now, in order to predict, whether the customer would be interested in Vehicle insurance, you have information about demographics (gender, age, region code type), Vehicles (Vehicle Age, Damage), Policy (Premium, sourcing channel) etc."
      ],
      "metadata": {
        "id": "DpeJGUA3kjGy"
      }
    },
    {
      "cell_type": "markdown",
      "source": [
        "# **General Guidelines** : -  "
      ],
      "metadata": {
        "id": "mDgbUHAGgjLW"
      }
    },
    {
      "cell_type": "markdown",
      "source": [
        "1.   Well-structured, formatted, and commented code is required.\n",
        "2.   Exception Handling, Production Grade Code & Deployment Ready Code will be a plus. Those students will be awarded some additional credits.\n",
        "     \n",
        "     The additional credits will have advantages over other students during Star Student selection.\n",
        "       \n",
        "             [ Note: - Deployment Ready Code is defined as, the whole .ipynb notebook should be executable in one go\n",
        "                       without a single error logged. ]\n",
        "\n",
        "3.   Each and every logic should have proper comments.\n",
        "4. You may add as many number of charts you want. Make Sure for each and every chart the following format should be answered.\n",
        "        \n",
        "\n",
        "```\n",
        "# Chart visualization code\n",
        "```\n",
        "            \n",
        "\n",
        "*   Why did you pick the specific chart?\n",
        "*   What is/are the insight(s) found from the chart?\n",
        "* Will the gained insights help creating a positive business impact?\n",
        "Are there any insights that lead to negative growth? Justify with specific reason.\n",
        "\n",
        "5. You have to create at least 15 logical & meaningful charts having important insights.\n",
        "\n",
        "\n",
        "[ Hints : - Do the Vizualization in  a structured way while following \"UBM\" Rule.\n",
        "\n",
        "U - Univariate Analysis,\n",
        "\n",
        "B - Bivariate Analysis (Numerical - Categorical, Numerical - Numerical, Categorical - Categorical)\n",
        "\n",
        "M - Multivariate Analysis\n",
        " ]\n",
        "\n",
        "\n",
        "\n",
        "\n",
        "\n",
        "6. You may add more ml algorithms for model creation. Make sure for each and every algorithm, the following format should be answered.\n",
        "\n",
        "\n",
        "*   Explain the ML Model used and it's performance using Evaluation metric Score Chart.\n",
        "\n",
        "\n",
        "*   Cross- Validation & Hyperparameter Tuning\n",
        "\n",
        "*   Have you seen any improvement? Note down the improvement with updates Evaluation metric Score Chart.\n",
        "\n",
        "*   Explain each evaluation metric's indication towards business and the business impact pf the ML model used.\n",
        "\n",
        "\n",
        "\n",
        "\n",
        "\n",
        "\n",
        "\n",
        "\n",
        "\n",
        "\n",
        "\n",
        "\n",
        "\n",
        "\n",
        "\n",
        "\n",
        "\n",
        "\n"
      ],
      "metadata": {
        "id": "ZrxVaUj-hHfC"
      }
    },
    {
      "cell_type": "markdown",
      "source": [
        "# ***Let's Begin !***"
      ],
      "metadata": {
        "id": "O_i_v8NEhb9l"
      }
    },
    {
      "cell_type": "markdown",
      "source": [
        "## ***1. Know Your Data***"
      ],
      "metadata": {
        "id": "HhfV-JJviCcP"
      }
    },
    {
      "cell_type": "markdown",
      "source": [
        "### Import Libraries"
      ],
      "metadata": {
        "id": "Y3lxredqlCYt"
      }
    },
    {
      "cell_type": "code",
      "source": [
        "# Import Libraries\n",
        "import pandas as pd\n",
        "import numpy as np\n",
        "import matplotlib.pyplot as plt\n",
        "import seaborn as sns\n",
        "from sklearn.linear_model import LogisticRegression\n",
        "from sklearn.metrics import accuracy_score\n",
        "from sklearn.metrics import classification_report\n",
        "from sklearn.metrics import confusion_matrix\n",
        "from sklearn.metrics import f1_score\n",
        "from sklearn.metrics import precision_score\n",
        "from sklearn.metrics import recall_score\n",
        "from sklearn.metrics import roc_auc_score\n",
        "from sklearn.metrics import roc_curve\n",
        "from sklearn.model_selection import train_test_split\n",
        "from sklearn.preprocessing import StandardScaler\n",
        "from sklearn.ensemble import RandomForestClassifier\n",
        "from imblearn.over_sampling import RandomOverSampler\n",
        "from collections import Counter\n",
        "from xgboost import XGBClassifier\n",
        "from sklearn.neighbors import KNeighborsClassifier\n",
        "from sklearn.model_selection import GridSearchCV\n",
        "from sklearn.tree import DecisionTreeClassifier"
      ],
      "metadata": {
        "id": "M8Vqi-pPk-HR"
      },
      "execution_count": null,
      "outputs": []
    },
    {
      "cell_type": "markdown",
      "source": [
        "### Dataset Loading"
      ],
      "metadata": {
        "id": "3RnN4peoiCZX"
      }
    },
    {
      "cell_type": "code",
      "source": [
        "# Load Dataset\n",
        "from google.colab import drive\n",
        "drive.mount('/content/drive')"
      ],
      "metadata": {
        "id": "4CkvbW_SlZ_R"
      },
      "execution_count": null,
      "outputs": []
    },
    {
      "cell_type": "code",
      "source": [
        "df = pd.read_csv('/content/drive/MyDrive/TRAIN-HEALTH INSURANCE CROSS SELL PREDICTION.csv')"
      ],
      "metadata": {
        "id": "cnBpm1Zq-cSg"
      },
      "execution_count": null,
      "outputs": []
    },
    {
      "cell_type": "markdown",
      "source": [
        "### Dataset First View"
      ],
      "metadata": {
        "id": "x71ZqKXriCWQ"
      }
    },
    {
      "cell_type": "code",
      "source": [
        "# Dataset First Look\n",
        "df.head()"
      ],
      "metadata": {
        "id": "LWNFOSvLl09H"
      },
      "execution_count": null,
      "outputs": []
    },
    {
      "cell_type": "markdown",
      "source": [
        "### Dataset Rows & Columns count"
      ],
      "metadata": {
        "id": "7hBIi_osiCS2"
      }
    },
    {
      "cell_type": "code",
      "source": [
        "# Dataset Rows & Columns count\n",
        "df.shape"
      ],
      "metadata": {
        "id": "Kllu7SJgmLij"
      },
      "execution_count": null,
      "outputs": []
    },
    {
      "cell_type": "markdown",
      "source": [
        "### Dataset Information"
      ],
      "metadata": {
        "id": "JlHwYmJAmNHm"
      }
    },
    {
      "cell_type": "code",
      "source": [
        "# Dataset Info\n",
        "df.info()"
      ],
      "metadata": {
        "id": "e9hRXRi6meOf"
      },
      "execution_count": null,
      "outputs": []
    },
    {
      "cell_type": "markdown",
      "source": [
        "#### Duplicate Values"
      ],
      "metadata": {
        "id": "35m5QtbWiB9F"
      }
    },
    {
      "cell_type": "code",
      "source": [
        "duplicate_value_counts = len(df[df.duplicated()])\n",
        "\n",
        "print(\"Number of Duplicates values:\",duplicate_value_counts)"
      ],
      "metadata": {
        "id": "UaJzP9iRrUlg"
      },
      "execution_count": null,
      "outputs": []
    },
    {
      "cell_type": "code",
      "source": [
        "# Dataset Duplicate Value Count\n",
        "display(df.drop_duplicates())"
      ],
      "metadata": {
        "id": "1sLdpKYkmox0"
      },
      "execution_count": null,
      "outputs": []
    },
    {
      "cell_type": "markdown",
      "source": [
        "#### Missing Values/Null Values"
      ],
      "metadata": {
        "id": "PoPl-ycgm1ru"
      }
    },
    {
      "cell_type": "code",
      "source": [
        "# Missing Values/Null Values Count\n",
        "df.isnull().sum()"
      ],
      "metadata": {
        "id": "GgHWkxvamxVg"
      },
      "execution_count": null,
      "outputs": []
    },
    {
      "cell_type": "code",
      "source": [
        "#visualizing the missing values\n",
        "sns.heatmap(df.isnull(),cmap = 'viridis',cbar=False)"
      ],
      "metadata": {
        "id": "33jPjHpZwT30"
      },
      "execution_count": null,
      "outputs": []
    },
    {
      "cell_type": "markdown",
      "source": [
        "#What did you know about your dataset?"
      ],
      "metadata": {
        "id": "hVG8ILyzwoNR"
      }
    },
    {
      "cell_type": "markdown",
      "source": [
        "1.The Dataset contains 381109 no.of.rows and 12 no.of.Columns.\n",
        "\n",
        "2.No duplicate value present in the dataset.\n",
        "\n",
        "3.No missing value present in the dataset."
      ],
      "metadata": {
        "id": "BAkjL0cJwpC7"
      }
    },
    {
      "cell_type": "markdown",
      "source": [
        "## ***2. Understanding Your Variables***"
      ],
      "metadata": {
        "id": "nA9Y7ga8ng1Z"
      }
    },
    {
      "cell_type": "code",
      "source": [
        "# Dataset Columns\n",
        "df.columns"
      ],
      "metadata": {
        "id": "j7xfkqrt5Ag5"
      },
      "execution_count": null,
      "outputs": []
    },
    {
      "cell_type": "code",
      "source": [
        "# Dataset Describe\n",
        "df.describe()"
      ],
      "metadata": {
        "id": "DnOaZdaE5Q5t"
      },
      "execution_count": null,
      "outputs": []
    },
    {
      "cell_type": "markdown",
      "source": [
        "### **Variables Description**\n",
        "\n",
        "**id** : Unique ID for the customer\n",
        "\n",
        "**Gender** : Gender of the customer\n",
        "\n",
        "**Age** : Age of the customer\n",
        "\n",
        "**Driving_License**: 0 = Customer does not have DL, 1 = Customer already has DL\n",
        "\n",
        "**Region_Code** : Unique code for the region of the customer\n",
        "\n",
        "**Previously_Insured** : 1 = Customer already has Vehicle Insurance, 0 = Customer doesn't have Vehicle Insurance\n",
        "\n",
        "**Vehicle_Age** : Age of the Vehicle\n",
        "\n",
        "**Vehicle_Damage**: 1 = Customer got his/her vehicle damaged in the past. 0 = Customer didn't get his/her vehicle damaged in the past.\n",
        "\n",
        "**Annual_Premium** : The amount customer needs to pay as premium in the year\n",
        "\n",
        "**Policy Sales Channel** : Anonymized Code for the channel of outreaching to the customer ie. Different Agents, Over Mail, Over Phone, In Person, etc.\n",
        "\n",
        "**Vintage** : Number of Days, Customer has been associated with the company\n",
        "\n",
        "**Response** : 1 = Customer is interested, 0 = Customer is not interested"
      ],
      "metadata": {
        "id": "p68x2BSrPyT_"
      }
    },
    {
      "cell_type": "markdown",
      "source": [
        "# Check Unique Values for each variable."
      ],
      "metadata": {
        "id": "jWiIeBe7xWfQ"
      }
    },
    {
      "cell_type": "code",
      "source": [
        "for column in df.columns:\n",
        "  unique_values = df[column].unique()\n",
        "\n",
        "  print(f\"Unique values for {column}:{unique_values}\")"
      ],
      "metadata": {
        "id": "3QotBC9JxbRL"
      },
      "execution_count": null,
      "outputs": []
    },
    {
      "cell_type": "code",
      "source": [
        "df.nunique()"
      ],
      "metadata": {
        "id": "gHjDd6z1x13G"
      },
      "execution_count": null,
      "outputs": []
    },
    {
      "cell_type": "markdown",
      "source": [
        "## 3. ***Data Wrangling***"
      ],
      "metadata": {
        "id": "0S0k6S0GyE18"
      }
    },
    {
      "cell_type": "code",
      "source": [
        "df.head(10)\n"
      ],
      "metadata": {
        "id": "deMoy-m3yFhW"
      },
      "execution_count": null,
      "outputs": []
    },
    {
      "cell_type": "code",
      "source": [
        "df[df.duplicated()]"
      ],
      "metadata": {
        "id": "YRnENNut2ySQ"
      },
      "execution_count": null,
      "outputs": []
    },
    {
      "cell_type": "code",
      "source": [
        "df.isnull().sum()"
      ],
      "metadata": {
        "id": "2KOJyrxL21Ll"
      },
      "execution_count": null,
      "outputs": []
    },
    {
      "cell_type": "markdown",
      "source": [
        "## ***4. Data Vizualization, Storytelling & Experimenting with charts : Understand the relationships between variables***"
      ],
      "metadata": {
        "id": "GF8Ens_Soomf"
      }
    },
    {
      "cell_type": "markdown",
      "source": [
        "### **Univariate Analysis**"
      ],
      "metadata": {
        "id": "0wOQAZs5pc--"
      }
    },
    {
      "cell_type": "markdown",
      "source": [
        "#### Chart - 1"
      ],
      "metadata": {
        "id": "t7CXKeB83iSo"
      }
    },
    {
      "cell_type": "code",
      "source": [
        "# Dependent Variable 'Responce'\n",
        "plt.figure(figsize = (8,7))\n",
        "sns.set_theme(style = 'whitegrid')\n",
        "sns.countplot(x = df['Response'], data = df)"
      ],
      "metadata": {
        "id": "7v_ESjsspbW7"
      },
      "execution_count": null,
      "outputs": []
    },
    {
      "cell_type": "markdown",
      "source": [
        "##### 1. Why did you pick the specific chart?"
      ],
      "metadata": {
        "id": "1K4cnLljk44q"
      }
    },
    {
      "cell_type": "markdown",
      "source": [
        "##### Answer - I chose this because a Seaborn countplot is ideal for visually highlighting the differences between two values of a variable."
      ],
      "metadata": {
        "id": "Ft7GZELCk97M"
      }
    },
    {
      "cell_type": "markdown",
      "source": [
        "##### 2. What is/are the insight(s) found from the chart?"
      ],
      "metadata": {
        "id": "Yrf22l1GlBaH"
      }
    },
    {
      "cell_type": "markdown",
      "source": [
        "##### Answer - Most people choose not to buy vehicle insurance."
      ],
      "metadata": {
        "id": "MCpj6YRYlCMl"
      }
    },
    {
      "cell_type": "markdown",
      "source": [
        "##### 3. Will the gained insights help creating a positive business impact?\n",
        "Are there any insights that lead to negative growth? Justify with specific reason."
      ],
      "metadata": {
        "id": "o-KN-fMtlHp-"
      }
    },
    {
      "cell_type": "markdown",
      "source": [
        "##### Answer - The plot reveals a small customer base that prefers purchasing vehicle insurance, indicating a negative impact on the business."
      ],
      "metadata": {
        "id": "OBuDLO9xlNxM"
      }
    },
    {
      "cell_type": "markdown",
      "source": [
        "#### Chart - 2"
      ],
      "metadata": {
        "id": "pormXyj53luL"
      }
    },
    {
      "cell_type": "code",
      "source": [
        "#Distribution of Age\n",
        "plt.figure(figsize = (15,8))\n",
        "sns.countplot(x=df['Age'],data=df)"
      ],
      "metadata": {
        "id": "QYLHr--GzSRi"
      },
      "execution_count": null,
      "outputs": []
    },
    {
      "cell_type": "markdown",
      "source": [
        "##### 1. Why did you pick the specific chart?"
      ],
      "metadata": {
        "id": "pO_Ed9-VlYaT"
      }
    },
    {
      "cell_type": "markdown",
      "source": [
        "##### Answer - I chose this chart because the distplot, or distribution plot, visually represents the spread and pattern of continuous data variables. It provides an overview of the data distribution using Seaborn's distplot function."
      ],
      "metadata": {
        "id": "gh1kAPrzlcsA"
      }
    },
    {
      "cell_type": "markdown",
      "source": [
        "##### 2. What is/are the insight(s) found from the chart?"
      ],
      "metadata": {
        "id": "r5k9NFaElhQN"
      }
    },
    {
      "cell_type": "markdown",
      "source": [
        "##### Answer - Based on the plot, it is evident that the age range of 22-25 has the highest number of customers."
      ],
      "metadata": {
        "id": "IqVR6ZoZlkTC"
      }
    },
    {
      "cell_type": "markdown",
      "source": [
        "##### 3. Will the gained insights help creating a positive business impact?\n",
        "Are there any insights that lead to negative growth? Justify with specific reason."
      ],
      "metadata": {
        "id": "xuZyv6kqlnNt"
      }
    },
    {
      "cell_type": "markdown",
      "source": [
        "##### Answer - The majority of responses received are from the age groups 22-25, suggesting that targeting these age groups can contribute to business growth."
      ],
      "metadata": {
        "id": "_1FY1EgFlqOh"
      }
    },
    {
      "cell_type": "markdown",
      "source": [
        "#### Chart - 3"
      ],
      "metadata": {
        "id": "g_-r4iyu3n83"
      }
    },
    {
      "cell_type": "code",
      "source": [
        "# Insured and uninsuerd data\n",
        "plt.figure(figsize=(7,9))\n",
        "plt.pie(df['Previously_Insured'].value_counts(), autopct='%.0f%%', shadow=True, startangle=200, explode=[0.01,0])\n",
        "plt.legend(labels=['Insured','Not insured'])\n",
        "plt.show()"
      ],
      "metadata": {
        "id": "nu997Oif0AsN"
      },
      "execution_count": null,
      "outputs": []
    },
    {
      "cell_type": "markdown",
      "source": [
        "##### 1. Why did you pick the specific chart?"
      ],
      "metadata": {
        "id": "wsQQLGIKl5u0"
      }
    },
    {
      "cell_type": "markdown",
      "source": [
        "##### Answer - I chose pie chart, which is created using the Matplotlib library, is a useful tool for visually representing the proportion or distribution of different values within a variable."
      ],
      "metadata": {
        "id": "VuLq4-HWl-B8"
      }
    },
    {
      "cell_type": "markdown",
      "source": [
        "##### 2. What is/are the insight(s) found from the chart?"
      ],
      "metadata": {
        "id": "hLSYxndemBMx"
      }
    },
    {
      "cell_type": "markdown",
      "source": [
        "##### Answer - The Pie Chart illustrates the distribution of responses among individuals based on their previous insurance status. It indicates that people who do not have prior insurance coverage tend to overwhelmingly choose to opt in for vehicle insurance."
      ],
      "metadata": {
        "id": "sq8ZCkvwmFgb"
      }
    },
    {
      "cell_type": "markdown",
      "source": [
        "##### 3. Will the gained insights help creating a positive business impact?\n",
        "Are there any insights that lead to negative growth? Justify with specific reason."
      ],
      "metadata": {
        "id": "oeivADKZmIgN"
      }
    },
    {
      "cell_type": "markdown",
      "source": [
        "##### Answer - By observing the Pie Chart, the company can identify an opportunity to specifically target customers who do not have previous vehicle insurance. These customers are more likely to be open to considering and opting in for vehicle insurance. Therefore, the company can focus its efforts on actively reaching out to this particular group of customers."
      ],
      "metadata": {
        "id": "y-hQYDIrmLfo"
      }
    },
    {
      "cell_type": "markdown",
      "source": [
        "#### Chart - 4"
      ],
      "metadata": {
        "id": "QfVOh3FK3pxu"
      }
    },
    {
      "cell_type": "code",
      "source": [
        "plt.figure(figsize=(15,9))\n",
        "a=df['Annual_Premium']\n",
        "sns.distplot(a, color='purple')"
      ],
      "metadata": {
        "id": "ImxjOU2l2vcT"
      },
      "execution_count": null,
      "outputs": []
    },
    {
      "cell_type": "markdown",
      "source": [
        "##### 1. Why did you pick the specific chart?"
      ],
      "metadata": {
        "id": "g1152xcGmSnF"
      }
    },
    {
      "cell_type": "markdown",
      "source": [
        "##### Answer - I chose a distribution plot beacause it is a visual representation that shows how data is distributed or spread out. It is particularly useful for continuous data variables."
      ],
      "metadata": {
        "id": "39iarPhemVTl"
      }
    },
    {
      "cell_type": "markdown",
      "source": [
        "##### 2. What is/are the insight(s) found from the chart?"
      ],
      "metadata": {
        "id": "AMpyjRLumZYz"
      }
    },
    {
      "cell_type": "markdown",
      "source": [
        "##### Answer - The majority of customers tend to have subscription prices that are centered around $50,000."
      ],
      "metadata": {
        "id": "Y21rg6XAmdI_"
      }
    },
    {
      "cell_type": "markdown",
      "source": [
        "##### 3. Will the gained insights help creating a positive business impact?\n",
        "Are there any insights that lead to negative growth? Justify with specific reason."
      ],
      "metadata": {
        "id": "XOI0SqKPmjI8"
      }
    },
    {
      "cell_type": "markdown",
      "source": [
        "##### Answer - The plot indicates that customers who chose vehicle insurance are more inclined towards higher premium options. This is advantageous for the business as it leads to increased revenue."
      ],
      "metadata": {
        "id": "OSoXfLXjml_S"
      }
    },
    {
      "cell_type": "markdown",
      "source": [
        "#### Chart - 5"
      ],
      "metadata": {
        "id": "5AhV2m3K32KE"
      }
    },
    {
      "cell_type": "code",
      "source": [
        "plt.figure(figsize=(10,6))\n",
        "sns.boxplot(df['Annual_Premium'])"
      ],
      "metadata": {
        "id": "bPY7RTnF3XEg"
      },
      "execution_count": null,
      "outputs": []
    },
    {
      "cell_type": "markdown",
      "source": [
        "**For the above boxplot chart we get insight that there's a lot of outliers in the annual premium.**"
      ],
      "metadata": {
        "id": "-7zBMOOK4Ldn"
      }
    },
    {
      "cell_type": "markdown",
      "source": [
        "#### Chart - 6"
      ],
      "metadata": {
        "id": "paxfWjUc4eMI"
      }
    },
    {
      "cell_type": "code",
      "source": [
        "plt.figure(figsize=(5,7))\n",
        "sns.countplot(x=df['Vehicle_Damage'])"
      ],
      "metadata": {
        "id": "uEJVBsb44krK"
      },
      "execution_count": null,
      "outputs": []
    },
    {
      "cell_type": "markdown",
      "source": [
        "##### 1. Why did you pick the specific chart?"
      ],
      "metadata": {
        "id": "tum8VdZ7otDB"
      }
    },
    {
      "cell_type": "markdown",
      "source": [
        "##### Answer - I chose this because a Seaborn countplot is ideal for visually highlighting the differences between two values of a variable."
      ],
      "metadata": {
        "id": "EvqpcoiBo1Y3"
      }
    },
    {
      "cell_type": "markdown",
      "source": [
        "##### 2. What is/are the insight(s) found from the chart?"
      ],
      "metadata": {
        "id": "MwR8Ds5_peKY"
      }
    },
    {
      "cell_type": "markdown",
      "source": [
        "Answer - from above countplot chart we get insight that the Customers which have Vehicle_Damage are more likely to buy insurance. than the customer who does'nt have vehicle Damage"
      ],
      "metadata": {
        "id": "9WDOpvlHpgU2"
      }
    },
    {
      "cell_type": "markdown",
      "source": [
        "#### Chart - 7"
      ],
      "metadata": {
        "id": "OAysJBhs5WP_"
      }
    },
    {
      "cell_type": "code",
      "source": [
        "df['Vehicle_Age'].hist();"
      ],
      "metadata": {
        "id": "X7a_trBV5kZ1"
      },
      "execution_count": null,
      "outputs": []
    },
    {
      "cell_type": "markdown",
      "source": [
        "##### 1. Why did you pick the specific chart?"
      ],
      "metadata": {
        "id": "NrSitZTCqJpg"
      }
    },
    {
      "cell_type": "markdown",
      "source": [
        "##### Answer - A histogram, created using the matplotlib library, is a useful tool for visualizing the distribution of values for a specific variable."
      ],
      "metadata": {
        "id": "wXw4aXllqMnc"
      }
    },
    {
      "cell_type": "markdown",
      "source": [
        "##### 2. What is/are the insight(s) found from the chart?"
      ],
      "metadata": {
        "id": "wTGVICCrqbUg"
      }
    },
    {
      "cell_type": "markdown",
      "source": [
        "From above histogram chart we get insight that most of people are having vehicle age between 1 or 2 years and very few peoples are having vehicle age more than 2 years."
      ],
      "metadata": {
        "id": "JHYO5hpkqe2_"
      }
    },
    {
      "cell_type": "markdown",
      "source": [
        "### **Bivariate Analysis**"
      ],
      "metadata": {
        "id": "CFvWchlN6TyP"
      }
    },
    {
      "cell_type": "markdown",
      "source": [
        "#### Chart - 8"
      ],
      "metadata": {
        "id": "DNV8dxdE6fka"
      }
    },
    {
      "cell_type": "code",
      "source": [
        "# Age vs Response\n",
        "plt.figure(figsize=(16,8))\n",
        "sns.countplot(data=df, x='Age', hue='Response', palette='CMRmap_r')\n",
        "plt.xlabel('Age response')\n",
        "plt.ylabel('count')\n",
        "plt.show()"
      ],
      "metadata": {
        "id": "s7WKHNg96jhk"
      },
      "execution_count": null,
      "outputs": []
    },
    {
      "cell_type": "markdown",
      "source": [
        "##### 1. Why did you pick the specific chart?"
      ],
      "metadata": {
        "id": "UeR_4S1lqpeA"
      }
    },
    {
      "cell_type": "markdown",
      "source": [
        "##### Answer - I chose this chart because the distplot, or distribution plot, visually represents the spread and pattern of continuous data variables. It provides an overview of the data distribution using Seaborn's distplot function."
      ],
      "metadata": {
        "id": "zdu4f6Shqx-t"
      }
    },
    {
      "cell_type": "markdown",
      "source": [
        "##### 2. What is/are the insight(s) found from the chart?"
      ],
      "metadata": {
        "id": "HuBCipFCq3B-"
      }
    },
    {
      "cell_type": "markdown",
      "source": [
        "from above countplot chart we get insight that People ages between from 31 to 50 are more likely to respond. While Young people below 30 are not interested in vehicle insurance"
      ],
      "metadata": {
        "id": "6KWWa89Dq6Fl"
      }
    },
    {
      "cell_type": "markdown",
      "source": [
        "#### Chart - 9"
      ],
      "metadata": {
        "id": "ksXmDhSH8QIP"
      }
    },
    {
      "cell_type": "code",
      "source": [
        " # Gender vs Response\n",
        " df.groupby(['Gender', 'Response']).size().unstack().plot(kind='bar', stacked=True)\n"
      ],
      "metadata": {
        "id": "EyXXNakA8Wtr"
      },
      "execution_count": null,
      "outputs": []
    },
    {
      "cell_type": "markdown",
      "source": [
        "##### 1. Why did you pick the specific chart?"
      ],
      "metadata": {
        "id": "Pb2zUpaEq8mi"
      }
    },
    {
      "cell_type": "markdown",
      "source": [
        "##### Answer - I chose this because a bar chart from the matplotlib library is a useful way to visually represent the proportions of different values within a different variable.e if we apply unstack function."
      ],
      "metadata": {
        "id": "QrOreGWSrCPI"
      }
    },
    {
      "cell_type": "markdown",
      "source": [
        "##### 2. What is/are the insight(s) found from the chart?"
      ],
      "metadata": {
        "id": "X8KDCbIYrYeS"
      }
    },
    {
      "cell_type": "markdown",
      "source": [
        "from above bar plot we get insight that the Male category having a vehicle is slightly greater than that of female category and chances of buying insurance is also little high."
      ],
      "metadata": {
        "id": "y9TD__VTra1H"
      }
    },
    {
      "cell_type": "code",
      "source": [
        "#### Chart - 10"
      ],
      "metadata": {
        "id": "-taP5vMB9TDh"
      },
      "execution_count": null,
      "outputs": []
    },
    {
      "cell_type": "code",
      "source": [
        "plt.figure(figsize=(10,6))\n",
        "sns.countplot(data=df, x='Vehicle_Age', hue='Response', palette='Dark2_r')\n",
        "plt.xlabel('Vehicle Age', fontsize=15)\n",
        "plt.ylabel('Count', fontsize=15)\n",
        "plt.title('Vehicle Age and Customer Responce analysis', fontsize=15)\n",
        "plt.show()"
      ],
      "metadata": {
        "id": "v1HjMrSA9VUA"
      },
      "execution_count": null,
      "outputs": []
    },
    {
      "cell_type": "markdown",
      "source": [
        "##### 1. Why did you pick the specific chart?"
      ],
      "metadata": {
        "id": "cPVCF5tArlAq"
      }
    },
    {
      "cell_type": "markdown",
      "source": [
        "##### Answer - I chose this chart because the distplot, or distribution plot, visually represents the spread and pattern of continuous data variables. It provides an overview of the data distribution using Seaborn's distplot function."
      ],
      "metadata": {
        "id": "bXOnGVS1rriK"
      }
    },
    {
      "cell_type": "markdown",
      "source": [
        "##### 2. What is/are the insight(s) found from the chart?"
      ],
      "metadata": {
        "id": "Y1ZevpUKrvyP"
      }
    },
    {
      "cell_type": "markdown",
      "source": [
        "from above countplot we get insight that the Customers with vehicle age 1-2 years are more likely to interested in buying insurance as compared to the other two and Customers with vehicle age <1 years have very less chances of buying insurance"
      ],
      "metadata": {
        "id": "MDUGId3hrypX"
      }
    },
    {
      "cell_type": "markdown",
      "source": [
        "#### Chart - 11"
      ],
      "metadata": {
        "id": "fsYI0N2A_VDi"
      }
    },
    {
      "cell_type": "code",
      "source": [
        "sns.barplot(x='Response', y='Annual_Premium', data=df)"
      ],
      "metadata": {
        "id": "wxyMYs2V_pdp"
      },
      "execution_count": null,
      "outputs": []
    },
    {
      "cell_type": "markdown",
      "source": [
        "##### 1. Why did you pick the specific chart?"
      ],
      "metadata": {
        "id": "irhgGQEir4uy"
      }
    },
    {
      "cell_type": "markdown",
      "source": [
        "##### Answer - I chose this because a bar chart from the matplotlib library is a useful way to visually represent the proportions of different values within a variable."
      ],
      "metadata": {
        "id": "xX2w9_utsdwO"
      }
    },
    {
      "cell_type": "markdown",
      "source": [
        "##### 2. What is/are the insight(s) found from the chart?"
      ],
      "metadata": {
        "id": "QNE_cqmLsfZ9"
      }
    },
    {
      "cell_type": "markdown",
      "source": [
        "from the above bar chart we get insight that the People who response have slightly higher annual premium"
      ],
      "metadata": {
        "id": "97RTHrYgs798"
      }
    },
    {
      "cell_type": "markdown",
      "source": [
        "#### Chart - 12"
      ],
      "metadata": {
        "id": "2jpE46ta_n02"
      }
    },
    {
      "cell_type": "code",
      "source": [
        "plt.figure(figsize=(20,8))\n",
        "sns.heatmap(df.corr(), annot=True)"
      ],
      "metadata": {
        "id": "MIq_kbpQ_Wb8"
      },
      "execution_count": null,
      "outputs": []
    },
    {
      "cell_type": "markdown",
      "source": [
        "##### 1. Why did you pick the specific chart?"
      ],
      "metadata": {
        "id": "sb8kIT42n-iQ"
      }
    },
    {
      "cell_type": "markdown",
      "source": [
        "Answer - I chose this beacuse a correlation plot visually represents the relationships between variables in a dataset. It displays the correlation of each variable with itself and with other columns using a heatmap of colors."
      ],
      "metadata": {
        "id": "kAaHUoL0oCEv"
      }
    },
    {
      "cell_type": "markdown",
      "source": [
        "##### 2. What is/are the insight(s) found from the chart?"
      ],
      "metadata": {
        "id": "XclUBsP7oC3k"
      }
    },
    {
      "cell_type": "markdown",
      "source": [
        "from above coorelation plot we seen that Target variable is not much affected by Vintage variable. We can drop least correlated variables"
      ],
      "metadata": {
        "id": "rZVv-JkQobNJ"
      }
    },
    {
      "cell_type": "markdown",
      "source": [
        "#### Chart - 12"
      ],
      "metadata": {
        "id": "iyUXAjmjt0mO"
      }
    },
    {
      "cell_type": "code",
      "source": [
        "sns.pairplot(df)"
      ],
      "metadata": {
        "id": "5x0ZmKNNt_9b"
      },
      "execution_count": null,
      "outputs": []
    },
    {
      "cell_type": "markdown",
      "source": [
        "##### 1. Why did you pick the specific chart?"
      ],
      "metadata": {
        "id": "4eKsYSOkuNeT"
      }
    },
    {
      "cell_type": "markdown",
      "source": [
        "##### Answer - The Seaborn Pairplot is a useful tool for visualizing relationships between variables in a dataset. This makes it easier to interpret and understand the data, as it condenses a large amount of information into a single figure."
      ],
      "metadata": {
        "id": "dTjqfipcuVen"
      }
    },
    {
      "cell_type": "markdown",
      "source": [
        "##### 2. What is/are the insight(s) found from the chart?"
      ],
      "metadata": {
        "id": "5k7rPKGGuZpx"
      }
    },
    {
      "cell_type": "markdown",
      "source": [
        "##### Answer - By generating scatterplots the Pairplot function in Seaborn allowed us to visually explore and understand the relationships between different columns in the dataset."
      ],
      "metadata": {
        "id": "ltaGLeWhudJd"
      }
    },
    {
      "cell_type": "markdown",
      "source": [
        "# **Conclusion of EDA**\n",
        "\n",
        "1.Most of the costumers who have the vehicle or who owns the vehicle age is ranges between 21 to 25 years. There are few costumers who have vehicle above the of 60 years.\n",
        "\n",
        "2.54% customers are previously insured and 46% customers are not insured yet.and also Customer who are not previously insured are likely to be insured.\n",
        "\n",
        "3.The Customers which have Vehicle_Damage are more likely to buy insurance. than the customer who does'nt have vehicle Damage.\n",
        "\n",
        "4.Most of people are having vehicle age between 1 or 2 years and very few peoples are having vehicle age more than 2 years\n",
        "\n",
        "5.People ages between from 31 to 50 are more likely to respond. While Young people below 30 are not interested in vehicle insurance.\n",
        "\n",
        "6.The Male category having a vehicle is slightly greater than that of female category and chances of buying insurance is also little high.\n",
        "\n",
        "7.The Customers with vehicle age 1-2 years are more likely to interested in buying insurance as compared to the other two and Customers with vehicle age <1 years have very less chances of buying insurance.\n",
        "\n",
        "8.the People who response have slightly higher annual premium."
      ],
      "metadata": {
        "id": "-OwhEixU8PqP"
      }
    },
    {
      "cell_type": "markdown",
      "source": [
        "## ***5. Hypothesis Testing***"
      ],
      "metadata": {
        "id": "fyAh6cpOulKD"
      }
    },
    {
      "cell_type": "markdown",
      "source": [
        "### Hypothetical Statement - 1"
      ],
      "metadata": {
        "id": "uCO-wvpeuyYd"
      }
    },
    {
      "cell_type": "markdown",
      "source": [
        "### HYPOTHESIS : **Males are more interested in buying vehicle insurance.**"
      ],
      "metadata": {
        "id": "CQa_hXOcu3oL"
      }
    },
    {
      "cell_type": "markdown",
      "source": [
        "#### 1. State Your research hypothesis as a null hypothesis and alternate hypothesis."
      ],
      "metadata": {
        "id": "-Djs2VNou-rf"
      }
    },
    {
      "cell_type": "markdown",
      "source": [
        "Answer -\n",
        "***Null Hypothesis:*** No, Males aren't more interested in buying Vehicle Insurance\n",
        "\n",
        "***Alternative Hypothesis:*** Yes, Males are more interested in buying Vehicle Insurance"
      ],
      "metadata": {
        "id": "ywqbjDPBvC2b"
      }
    },
    {
      "cell_type": "markdown",
      "source": [
        "#### 2. Perform an appropriate statistical test."
      ],
      "metadata": {
        "id": "gkB4QVXpvGcT"
      }
    },
    {
      "cell_type": "code",
      "source": [
        "hyp_data = pd.crosstab(df['Response'],df['Gender'],margins=False)\n",
        "hyp_data"
      ],
      "metadata": {
        "id": "_hQSy0W7vHXP"
      },
      "execution_count": null,
      "outputs": []
    },
    {
      "cell_type": "markdown",
      "source": [
        "### **Set significance level to 0.05.**"
      ],
      "metadata": {
        "id": "MExuFUKpv1vo"
      }
    },
    {
      "cell_type": "code",
      "source": [
        "from scipy.stats import chisquare\n",
        "from scipy.stats import chi2_contingency\n",
        "\n",
        "stats,p,dof,expected = chi2_contingency(hyp_data)"
      ],
      "metadata": {
        "id": "iSZoQ6LAv43B"
      },
      "execution_count": null,
      "outputs": []
    },
    {
      "cell_type": "code",
      "source": [
        "p"
      ],
      "metadata": {
        "id": "nPeJR-djwYw_"
      },
      "execution_count": null,
      "outputs": []
    },
    {
      "cell_type": "markdown",
      "source": [
        "### The p value is smaller than significance level. So, we will reject the null hypothesis and accept the alternative hypothesis."
      ],
      "metadata": {
        "id": "A2QHpbiCwlkP"
      }
    },
    {
      "cell_type": "markdown",
      "source": [
        "##### Which statistical test have you done to obtain P-Value?"
      ],
      "metadata": {
        "id": "Dfy4yQIYwpLb"
      }
    },
    {
      "cell_type": "markdown",
      "source": [
        "##### Answer - We used the Chi-Square contingency test to determine the statistical significance (p-value) of our hypothesis."
      ],
      "metadata": {
        "id": "VOc7dLClwspo"
      }
    },
    {
      "cell_type": "markdown",
      "source": [
        "##### Why did you choose the specific statistical test?"
      ],
      "metadata": {
        "id": "GPUQbU2DwwdY"
      }
    },
    {
      "cell_type": "markdown",
      "source": [
        "##### Answer - The Chi-Square contingency test serves as a basis for statistical inference, allowing us to investigate the relationship between variables based on the observed data. By applying this test, we can determine whether there is a significant association between the variables of interest."
      ],
      "metadata": {
        "id": "ofJ1wAwiw1ty"
      }
    },
    {
      "cell_type": "markdown",
      "source": [
        "### Hypothetical Statement - 2"
      ],
      "metadata": {
        "id": "rbquWbtlw6pz"
      }
    },
    {
      "cell_type": "markdown",
      "source": [
        "### HYPOTHESIS : **As the number of days a customer is associated with the company increase, the chances that the customer will opt in for vehicle insurance increases.**"
      ],
      "metadata": {
        "id": "eNwvTy57w_9y"
      }
    },
    {
      "cell_type": "markdown",
      "source": [
        "Answer -\n",
        "***Null Hypothesis:*** No, as the number of days a customer is associated with the company is increases, customer isn't likely to buy a vehicle insurance.\n",
        "\n",
        "***Alternative Hypothesis:*** Yes, as the number of days a customer is asscociated with the company increase, the customer are more chances to buy vehicle insurance"
      ],
      "metadata": {
        "id": "Eq8Qy33IxEQS"
      }
    },
    {
      "cell_type": "markdown",
      "source": [
        "#### 2. Perform an appropriate statistical test."
      ],
      "metadata": {
        "id": "43GDUsr6x4q5"
      }
    },
    {
      "cell_type": "code",
      "source": [
        "hypo_data = pd.crosstab(df['Response'],df['Vintage'],margins=False)\n",
        "hypo_data"
      ],
      "metadata": {
        "id": "KMFYkvWUx5Ze"
      },
      "execution_count": null,
      "outputs": []
    },
    {
      "cell_type": "markdown",
      "source": [
        "### **Set significance level to 0.05.**"
      ],
      "metadata": {
        "id": "OjO9dkHxypl_"
      }
    },
    {
      "cell_type": "code",
      "source": [
        "from scipy.stats import chisquare\n",
        "from scipy.stats import chi2_contingency\n",
        "\n",
        "stats,p,dof,expected = chi2_contingency(hypo_data)"
      ],
      "metadata": {
        "id": "q-67asEny59Q"
      },
      "execution_count": null,
      "outputs": []
    },
    {
      "cell_type": "code",
      "source": [
        "p"
      ],
      "metadata": {
        "id": "y54g5YHhzYKT"
      },
      "execution_count": null,
      "outputs": []
    },
    {
      "cell_type": "markdown",
      "source": [
        "### The p value is smaller than significance level. So, we will reject the null hypothesis and accept the alternative hypothesis."
      ],
      "metadata": {
        "id": "ecXn1Igqzp96"
      }
    },
    {
      "cell_type": "markdown",
      "source": [
        "##### Which statistical test have you done to obtain P-Value"
      ],
      "metadata": {
        "id": "pHJNa3Mjzuru"
      }
    },
    {
      "cell_type": "markdown",
      "source": [
        "##### Answer - We used the Chi-Square contingency test to determine the statistical significance (p-value) of our hypothesis."
      ],
      "metadata": {
        "id": "bGUhIU7Xzx3t"
      }
    },
    {
      "cell_type": "markdown",
      "source": [
        "##### Why did you choose the specific statistical test?"
      ],
      "metadata": {
        "id": "5R3UVdtGz42g"
      }
    },
    {
      "cell_type": "markdown",
      "source": [
        "##### Answer - The Chi-Square contingency test serves as a basis for statistical inference, allowing us to investigate the relationship between variables based on the observed data. By applying this test, we can determine whether there is a significant association between the variables of interest."
      ],
      "metadata": {
        "id": "NYes8Mb5z9eK"
      }
    },
    {
      "cell_type": "markdown",
      "source": [
        "## ***6. Feature Engineering & Data Pre-processing***"
      ],
      "metadata": {
        "id": "JSNMWJocH26G"
      }
    },
    {
      "cell_type": "markdown",
      "source": [
        "### **Encoding Object Columns**"
      ],
      "metadata": {
        "id": "Yu1M_cmdNnav"
      }
    },
    {
      "cell_type": "code",
      "source": [
        "#Changing categorical values to numerical values\n",
        "df['Gender']=df['Gender'].map({'Female':1, 'Male': 0})\n",
        "df['Vehicle_Age']=df['Vehicle_Age'].map({'< 1 Year':0, '1-2 Year': 1, '> 2 Years':2})\n",
        "df['Vehicle_Damage']=df['Vehicle_Damage'].map({'Yes':1, 'No': 0})\n",
        "df.head()"
      ],
      "metadata": {
        "id": "ULfPRIazNqWP"
      },
      "execution_count": null,
      "outputs": []
    },
    {
      "cell_type": "code",
      "source": [
        "correlation = df.corr()\n",
        "correlation['Response'].sort_values(ascending=False)[1:]"
      ],
      "metadata": {
        "id": "CGz8AUiFITcz"
      },
      "execution_count": null,
      "outputs": []
    },
    {
      "cell_type": "code",
      "source": [
        "X=df.drop(columns=['id', 'Driving_License', 'Policy_Sales_Channel','Vintage', 'Response'])\n",
        "y=df['Response']"
      ],
      "metadata": {
        "id": "FNHBkElsIwgl"
      },
      "execution_count": null,
      "outputs": []
    },
    {
      "cell_type": "code",
      "source": [
        "# Fill any NaNs with mode()\n",
        "fill_mode=lambda col: col.fillna(col.mode())\n",
        "X= X.apply(fill_mode, axis =0)\n",
        "df=df.apply(fill_mode, axis=0)"
      ],
      "metadata": {
        "id": "HKKzbSoyJZNm"
      },
      "execution_count": null,
      "outputs": []
    },
    {
      "cell_type": "markdown",
      "source": [
        "## ***7. Model Building***"
      ],
      "metadata": {
        "id": "br17Eb5CH5JX"
      }
    },
    {
      "cell_type": "code",
      "source": [
        "# Check for imbalance in data\n",
        "df['Response'].value_counts()"
      ],
      "metadata": {
        "id": "ICPnJQ_cKWMX"
      },
      "execution_count": null,
      "outputs": []
    },
    {
      "cell_type": "markdown",
      "source": [
        "* We can clearly see that there is a huge difference between the dataset.\n",
        "* Satndard ML techniques such as Desicion Tree and Logistic Regression have a bias towards the majority class and they tend to ignore the minority class. So solving this issue we can resampling techniques."
      ],
      "metadata": {
        "id": "0dEJ5RGyKrJ6"
      }
    },
    {
      "cell_type": "code",
      "source": [
        "# Resampling\n",
        "ros = RandomOverSampler(random_state=0)\n",
        "X_new,y_new = ros.fit_resample(X, y)\n",
        "\n",
        "print(\"After Random Over Sampling Of Minor Class Total Sample are :\", len(y_new))\n",
        "print(\"Original dataset shape{}\".format(Counter(y)))\n",
        "print(\"Resampled dataset shape{}\".format(Counter(y_new)))"
      ],
      "metadata": {
        "id": "kaNtobZQKkie"
      },
      "execution_count": null,
      "outputs": []
    },
    {
      "cell_type": "markdown",
      "source": [
        "### ***Splitting the Data in Train in Test sets***"
      ],
      "metadata": {
        "id": "LB3dnXqYNyjD"
      }
    },
    {
      "cell_type": "code",
      "source": [
        "X_train, X_test, y_train, y_test = train_test_split(X_new, y_new, random_state=42, test_size=0.3)\n",
        "X_train.shape, X_test.shape, y_train.shape, y_test.shape"
      ],
      "metadata": {
        "id": "pMXFJzj-OJQz"
      },
      "execution_count": null,
      "outputs": []
    },
    {
      "cell_type": "code",
      "source": [
        "# Normalizing the Dataset using Standard Scalling Technique\n",
        "scaler = StandardScaler()\n",
        "X_train = scaler.fit_transform(X_train)\n",
        "X_test = scaler.transform(X_test)"
      ],
      "metadata": {
        "id": "ap2pueiTQlgR"
      },
      "execution_count": null,
      "outputs": []
    },
    {
      "cell_type": "markdown",
      "source": [
        "### ***Logistic Regression***"
      ],
      "metadata": {
        "id": "wXyLDCaeRZEA"
      }
    },
    {
      "cell_type": "code",
      "source": [
        "model = LogisticRegression(random_state=42)\n",
        "model = model.fit(X_train, y_train)\n",
        "# Making Prediction\n",
        "pred = model.predict(X_test)\n",
        "prob = model.predict_proba(X_test)[:,1]"
      ],
      "metadata": {
        "id": "EfXGOeGERhyt"
      },
      "execution_count": null,
      "outputs": []
    },
    {
      "cell_type": "markdown",
      "source": [
        "#### Model Evaluation"
      ],
      "metadata": {
        "id": "cuy2-3KKWNYo"
      }
    },
    {
      "cell_type": "code",
      "source": [
        "# Evaluation\n",
        "r_lgt = recall_score(y_test, pred)\n",
        "print(\"recall_score : \", r_lgt)\n",
        "\n",
        "p_lgt = precision_score(y_test, pred)\n",
        "print(\"precision_score : \", p_lgt)\n",
        "\n",
        "f1_lgt = f1_score(y_test, pred)\n",
        "print(\"f1_score : \", f1_lgt)\n",
        "\n",
        "A_lgt = accuracy_score(y_test, pred)\n",
        "print(\"accuracy_score : \", A_lgt)\n",
        "\n",
        "acu_lgt = roc_auc_score(y_test, pred)\n",
        "print(\"ROC_AUC_score : \", acu_lgt)"
      ],
      "metadata": {
        "id": "vJ1vXfdIWRT6"
      },
      "execution_count": null,
      "outputs": []
    },
    {
      "cell_type": "code",
      "source": [
        "fpr, tpr, _= roc_curve(y_test, prob)\n",
        "\n",
        "plt.xlabel(\"False Positive Rate\")\n",
        "plt.ylabel(\"True Positive Rate\")\n",
        "plt.title('Logistic Regression ROC Curve')\n",
        "plt.plot(fpr,tpr)\n",
        "plt.plot((0,1), linestyle='--', color='black')\n",
        "plt.show()"
      ],
      "metadata": {
        "id": "-SpgWNu2YhLD"
      },
      "execution_count": null,
      "outputs": []
    },
    {
      "cell_type": "markdown",
      "source": [
        "#### Confusion Matrix"
      ],
      "metadata": {
        "id": "5KFHjrWriHew"
      }
    },
    {
      "cell_type": "code",
      "source": [
        "matrix=confusion_matrix(y_test, pred)\n",
        "print(matrix)\n",
        "sns.heatmap(matrix, annot=True, fmt='g')"
      ],
      "metadata": {
        "id": "RgvvCxftiVec"
      },
      "execution_count": null,
      "outputs": []
    },
    {
      "cell_type": "markdown",
      "source": [
        "* From confusion matrix we see that the model is predicting positive response but also predicting negative response too."
      ],
      "metadata": {
        "id": "C2JLmYa6jww1"
      }
    },
    {
      "cell_type": "code",
      "source": [
        "print(classification_report(pred, y_test))"
      ],
      "metadata": {
        "id": "TJcpy35JkDMZ"
      },
      "execution_count": null,
      "outputs": []
    },
    {
      "cell_type": "markdown",
      "source": [
        "### ***RandomForest Classifier***"
      ],
      "metadata": {
        "id": "NeTH-c0kkKqV"
      }
    },
    {
      "cell_type": "code",
      "source": [
        "rf_model = RandomForestClassifier()\n",
        "rf_model = rf_model.fit(X_train, y_train)\n",
        "\n",
        "rf_pred = rf_model.predict(X_test)\n",
        "rf_proba = rf_model.predict_proba(X_test)[:,1]"
      ],
      "metadata": {
        "id": "LHhBgu53kSIG"
      },
      "execution_count": null,
      "outputs": []
    },
    {
      "cell_type": "markdown",
      "source": [
        "#### Model Evaluation"
      ],
      "metadata": {
        "id": "BUPeDRR3ldPf"
      }
    },
    {
      "cell_type": "code",
      "source": [
        "# Evaluation\n",
        "r_rf = recall_score(y_test, rf_pred)\n",
        "print(\"recall_score : \", r_lgt)\n",
        "\n",
        "p_rf = precision_score(y_test, rf_pred)\n",
        "print(\"precision_score : \", p_lgt)\n",
        "\n",
        "f1_rf = f1_score(y_test, rf_pred)\n",
        "print(\"f1_score : \", f1_lgt)\n",
        "\n",
        "A_rf = accuracy_score(y_test, rf_pred)\n",
        "print(\"accuracy_score : \", A_lgt)\n",
        "\n",
        "acu_rf = roc_auc_score(y_test, rf_pred)\n",
        "print(\"ROC_AUC_score : \", acu_lgt)"
      ],
      "metadata": {
        "id": "7KZkVPtilmcr"
      },
      "execution_count": null,
      "outputs": []
    },
    {
      "cell_type": "code",
      "source": [
        "fpr, tpr, _= roc_curve(y_test, rf_proba)\n",
        "\n",
        "plt.xlabel(\"False Positive Rate\")\n",
        "plt.ylabel(\"True Positive Rate\")\n",
        "plt.title('Randon Forest ROC Curve')\n",
        "plt.plot(fpr,tpr)\n",
        "plt.plot((0,1), linestyle='--', color='black')\n",
        "plt.show()"
      ],
      "metadata": {
        "id": "JegmYRgTs_qJ"
      },
      "execution_count": null,
      "outputs": []
    },
    {
      "cell_type": "markdown",
      "source": [
        "#### Confusion Matrix"
      ],
      "metadata": {
        "id": "hSFnsVE2uBO6"
      }
    },
    {
      "cell_type": "code",
      "source": [
        "matrix=confusion_matrix(y_test, rf_pred)\n",
        "print(matrix)\n",
        "sns.heatmap(matrix, annot=True, fmt='g')"
      ],
      "metadata": {
        "id": "IjhiOd__uA0u"
      },
      "execution_count": null,
      "outputs": []
    },
    {
      "cell_type": "markdown",
      "source": [
        "* The confusion matrix now shows that the model now is much better with predicting positive response."
      ],
      "metadata": {
        "id": "tdVIBwLUuXN7"
      }
    },
    {
      "cell_type": "code",
      "source": [
        "print(classification_report(y_test, rf_pred))"
      ],
      "metadata": {
        "id": "FcYytQ7tuVqE"
      },
      "execution_count": null,
      "outputs": []
    },
    {
      "cell_type": "markdown",
      "source": [
        "* The model performs very well, so we  can use it to predict unkniwn data."
      ],
      "metadata": {
        "id": "ai16J5bSu2D3"
      }
    },
    {
      "cell_type": "markdown",
      "source": [
        "### ***XGBoost***"
      ],
      "metadata": {
        "id": "1fPi8J9BvAbT"
      }
    },
    {
      "cell_type": "code",
      "source": [
        "XG_model = XGBClassifier()\n",
        "XG_model = XG_model.fit(X_train, y_train)\n",
        "\n",
        "XG_pred = XG_model.predict(X_test)\n",
        "XG_prob = XG_model.predict_proba(X_test)[:,1]"
      ],
      "metadata": {
        "id": "9shrpHBOvEU7"
      },
      "execution_count": null,
      "outputs": []
    },
    {
      "cell_type": "markdown",
      "source": [
        "#### Mode Evaluation"
      ],
      "metadata": {
        "id": "IFMg-TCUwHLG"
      }
    },
    {
      "cell_type": "code",
      "source": [
        "# Evaluation\n",
        "r_XG = recall_score(y_test, XG_pred)\n",
        "print(\"recall_score : \", r_XG)\n",
        "\n",
        "p_XG = precision_score(y_test, XG_pred)\n",
        "print(\"precision_score : \", p_XG)\n",
        "\n",
        "f1_XG = f1_score(y_test, XG_pred)\n",
        "print(\"f1_score : \", f1_XG)\n",
        "\n",
        "A_XG = accuracy_score(y_test, XG_pred)\n",
        "print(\"accuracy_score : \", A_XG)\n",
        "\n",
        "acu_XG = roc_auc_score(y_test, XG_pred)\n",
        "print(\"ROC_AUC_score : \", acu_XG)"
      ],
      "metadata": {
        "id": "C4OfIiZawJ7k"
      },
      "execution_count": null,
      "outputs": []
    },
    {
      "cell_type": "code",
      "source": [
        "fpr, tpr, _= roc_curve(y_test, XG_prob)\n",
        "\n",
        "plt.xlabel(\"False Positive Rate\")\n",
        "plt.ylabel(\"True Positive Rate\")\n",
        "plt.title('XGBoost ROC Curve')\n",
        "plt.plot(fpr,tpr)\n",
        "plt.plot((0,1), linestyle='--', color='black')\n",
        "plt.show()"
      ],
      "metadata": {
        "id": "lsw27SzOxUad"
      },
      "execution_count": null,
      "outputs": []
    },
    {
      "cell_type": "markdown",
      "source": [
        "#### Confusion Matrix"
      ],
      "metadata": {
        "id": "aiflKPiyx2yp"
      }
    },
    {
      "cell_type": "code",
      "source": [
        "matrix=confusion_matrix(y_test, XG_pred)\n",
        "print(matrix)\n",
        "sns.heatmap(matrix, annot=True, fmt='g')"
      ],
      "metadata": {
        "id": "NpRyz5rlx7w5"
      },
      "execution_count": null,
      "outputs": []
    },
    {
      "cell_type": "markdown",
      "source": [
        "* From the confusion matrix we see that the model is bit better with predicting positive response."
      ],
      "metadata": {
        "id": "EKLlpScTyFpM"
      }
    },
    {
      "cell_type": "code",
      "source": [
        "print(classification_report(XG_pred, y_test))"
      ],
      "metadata": {
        "id": "Ebf44dX3yTYH"
      },
      "execution_count": null,
      "outputs": []
    },
    {
      "cell_type": "markdown",
      "source": [
        "### ***Knn***"
      ],
      "metadata": {
        "id": "kKTEllSK37dW"
      }
    },
    {
      "cell_type": "code",
      "source": [
        "knn = KNeighborsClassifier()\n"
      ],
      "metadata": {
        "id": "qurj44D94Wnw"
      },
      "execution_count": null,
      "outputs": []
    },
    {
      "cell_type": "code",
      "source": [
        "knn.fit(X_train,y_train)"
      ],
      "metadata": {
        "id": "2N1WGD-H5_tv"
      },
      "execution_count": null,
      "outputs": []
    },
    {
      "cell_type": "code",
      "source": [
        "knn_pred = knn.predict(X_test)\n",
        "knn_proba = knn.predict_proba(X_test)[:,1]\n"
      ],
      "metadata": {
        "id": "9S_l4qNu6Y30"
      },
      "execution_count": null,
      "outputs": []
    },
    {
      "cell_type": "code",
      "source": [
        "r_knn = recall_score(y_test, knn_pred)\n",
        "print(\"recall_score : \", r_knn)\n",
        "\n",
        "p_knn = precision_score(y_test, knn_pred)\n",
        "print(\"precision_score : \", p_knn)\n",
        "\n",
        "f1_knn = f1_score(y_test, knn_pred)\n",
        "print(\"f1_score : \", f1_knn)\n",
        "\n",
        "A_knn = accuracy_score(y_test, knn_pred)\n",
        "print(\"accuracy_score : \", A_knn)\n",
        "\n",
        "acu_knn = roc_auc_score(y_test, knn_pred)\n",
        "print(\"ROC_AUC_score : \", acu_knn)"
      ],
      "metadata": {
        "id": "8w7yasB77Z5d"
      },
      "execution_count": null,
      "outputs": []
    },
    {
      "cell_type": "code",
      "source": [
        "fpr, tpr, _= roc_curve(y_test, knn_proba)\n",
        "\n",
        "plt.xlabel(\"False Positive Rate\")\n",
        "plt.ylabel(\"True Positive Rate\")\n",
        "plt.title('KNN ROC Curve')\n",
        "plt.plot(fpr,tpr)\n",
        "plt.plot((0,1), linestyle='--', color='black')\n",
        "plt.show()"
      ],
      "metadata": {
        "id": "qhdzQpqN749a"
      },
      "execution_count": null,
      "outputs": []
    },
    {
      "cell_type": "code",
      "source": [
        "print(classification_report(knn_pred, y_test))"
      ],
      "metadata": {
        "id": "JTZTYVR58N0W"
      },
      "execution_count": null,
      "outputs": []
    },
    {
      "cell_type": "markdown",
      "source": [
        "#### Confusion Matrix"
      ],
      "metadata": {
        "id": "7niWBBOi7_vJ"
      }
    },
    {
      "cell_type": "code",
      "source": [
        "matrix=confusion_matrix(y_test, knn_pred)\n",
        "print(matrix)\n",
        "sns.heatmap(matrix, annot=True, fmt='g')"
      ],
      "metadata": {
        "id": "5XiXazZW8G0H"
      },
      "execution_count": null,
      "outputs": []
    },
    {
      "cell_type": "markdown",
      "source": [
        "### ***Comparing the Model***"
      ],
      "metadata": {
        "id": "qdAVZZNFyfjH"
      }
    },
    {
      "cell_type": "code",
      "source": [
        "com = ['Logistic Regression', 'Randomforest', 'XGBClassifier','KNN']\n",
        "data = {'Accuracy':[A_lgt,A_rf,A_XG,A_knn],'Recall':[r_lgt,r_rf,r_XG,r_knn],'Precision':[p_lgt,p_rf,p_XG,p_knn],'f1_score':[f1_lgt,f1_rf,f1_XG,f1_knn],'ROC_AUC':[acu_lgt,acu_rf,acu_XG,acu_knn]}\n",
        "result = pd.DataFrame(data=data, index=com)\n",
        "result"
      ],
      "metadata": {
        "id": "hXz42XCVyjkP"
      },
      "execution_count": null,
      "outputs": []
    },
    {
      "cell_type": "markdown",
      "source": [
        "# ***Conclusion***"
      ],
      "metadata": {
        "id": "hDStgspp1aZw"
      }
    },
    {
      "cell_type": "markdown",
      "source": [
        "* The variables suc as Age, Previous_Insured, Annual_Premium are more affecting the target varialbles.\n",
        "* Comparing ROC curve we can see that Random Forest model perform better. Because curves closer to the top-left corner, it indicates a better perormance."
      ],
      "metadata": {
        "id": "V-FJNy221h-r"
      }
    }
  ]
}